{
 "cells": [
  {
   "cell_type": "markdown",
   "id": "ec95313a",
   "metadata": {},
   "source": [
    "## Graded Lab: Reflection in a Research Agent\n",
    "\n",
    "In this graded lab, you’ll implement a simple **agentic workflow** designed to simulate reflective thinking in a writing task. This is one building block of a more complex research agent that will be constructed throughout the course.\n",
    "\n",
    "### Objective\n",
    "\n",
    "Build a three-step workflow where an LLM writes an essay draft, critiques it, and rewrites it. \n",
    "\n",
    "* **Step 1 – Drafting:** Call the LLM to generate an initial draft of an essay based on a simple prompt.\n",
    "* **Step 2 – Reflection:** Reflect on the draft using a reasoning step. (Optionally, this can be done with a different model.)\n",
    "* **Step 3 – Revision:** Apply the feedback from the reflection to generate a revised version of the essay.\n"
   ]
  },
  {
   "cell_type": "markdown",
   "id": "4a473390",
   "metadata": {},
   "source": [
    "---\n",
    "<a name='submission'></a>\n",
    "\n",
    "<h4 style=\"color:green; font-weight:bold;\">TIPS FOR SUCCESSFUL GRADING OF YOUR ASSIGNMENT:</h4>\n",
    "\n",
    "* All cells are frozen except for the ones where you need to write your solution code or when explicitly mentioned you can interact with it.\n",
    "\n",
    "* In each exercise cell, look for comments `### START CODE HERE ###` and `### END CODE HERE ###`. These show you where to write the solution code. **Do not add or change any code that is outside these comments**.\n",
    "\n",
    "* You can add new cells to experiment but these will be omitted by the grader, so don't rely on newly created cells to host your solution code, use the provided places for this.\n",
    "\n",
    "* Avoid using global variables unless you absolutely have to. The grader tests your code in an isolated environment without running all cells from the top. As a result, global variables may be unavailable when scoring your submission. Global variables that are meant to be used will be defined in UPPERCASE.\n",
    "\n",
    "* To submit your notebook for grading, first save it by clicking the 💾 icon on the top left of the page and then click on the <span style=\"background-color: red; color: white; padding: 3px 5px; font-size: 16px; border-radius: 5px;\">Submit assignment</span> button on the top right of the page.\n",
    "---"
   ]
  },
  {
   "cell_type": "markdown",
   "id": "19131dc4",
   "metadata": {},
   "source": [
    "Before interacting with the language models, we initialize the `aisuite` client. This setup loads environment variables (e.g., API keys) from a `.env` file to securely authenticate with backend services. The `ai.Client()` instance will be used to make all model calls throughout this workflow."
   ]
  },
  {
   "cell_type": "code",
   "execution_count": 1,
   "id": "9ccd6eeb",
   "metadata": {
    "deletable": false,
    "editable": false,
    "height": 168,
    "tags": [
     "graded"
    ]
   },
   "outputs": [],
   "source": [
    "from dotenv import load_dotenv\n",
    "\n",
    "load_dotenv()\n",
    "\n",
    "import aisuite as ai\n",
    "\n",
    "# Define the client. You can use this variable inside your graded functions!\n",
    "CLIENT = ai.Client()"
   ]
  },
  {
   "cell_type": "code",
   "execution_count": 2,
   "id": "88ef4447",
   "metadata": {
    "deletable": false,
    "editable": false,
    "height": 30
   },
   "outputs": [],
   "source": [
    "import unittests"
   ]
  },
  {
   "cell_type": "markdown",
   "id": "cb1d6e33",
   "metadata": {},
   "source": [
    "## Exercise 1: `generate_draft` Function\n",
    "\n",
    "**Objective**:\n",
    "Write a function called `generate_draft` that takes in a string topic and uses a language model to generate a complete draft essay.\n",
    "\n",
    "**Inputs**:\n",
    "\n",
    "* `topic` (str): The essay topic.\n",
    "* `model` (str, optional): The model identifier to use. Defaults to `\"openai:gpt-4o\"`.\n",
    "\n",
    "**Output**:\n",
    "\n",
    "* A string representing the full draft of the essay.\n",
    "\n",
    "The setup for calling the LLM using the aisuite library is already provided. Focus on crafting the prompt content. You can reference this setup in later exercises to understand how to interact with the library effectively.\n"
   ]
  },
  {
   "cell_type": "code",
   "execution_count": 3,
   "id": "dbe325d5",
   "metadata": {
    "deletable": false,
    "height": 389,
    "tags": [
     "graded"
    ]
   },
   "outputs": [],
   "source": [
    "# GRADED FUNCTION: generate_draft\n",
    "\n",
    "def generate_draft(topic: str, model: str = \"openai:gpt-4o\") -> str: \n",
    "    \n",
    "    ### START CODE HERE ###\n",
    "\n",
    "    # Define your prompt here. A multi-line f-string is typically used for this.\n",
    "    prompt = f\"\"\"You are an expert researcher and essay writer. \n",
    "Your task is to write an essay on the given topic: {topic}\n",
    "    \"\"\" \n",
    "\n",
    "    ### END CODE HERE ###\n",
    "    \n",
    "    # Get a response from the LLM by creating a chat with the client.\n",
    "    response = CLIENT.chat.completions.create(\n",
    "        model=model,\n",
    "        messages=[{\"role\": \"user\", \"content\": prompt}],\n",
    "        temperature=1.0,\n",
    "    )\n",
    "\n",
    "    return response.choices[0].message.content"
   ]
  },
  {
   "cell_type": "markdown",
   "id": "2b989100",
   "metadata": {},
   "source": [
    "Run the following cell to check your code is working correctly:"
   ]
  },
  {
   "cell_type": "code",
   "execution_count": 4,
   "id": "85ee72c5",
   "metadata": {
    "deletable": false,
    "editable": false,
    "height": 47
   },
   "outputs": [
    {
     "name": "stdout",
     "output_type": "stream",
     "text": [
      "\u001b[92m All tests passed!\n"
     ]
    }
   ],
   "source": [
    "# Test your code!\n",
    "unittests.test_generate_draft(generate_draft)"
   ]
  },
  {
   "cell_type": "markdown",
   "id": "136a95db",
   "metadata": {},
   "source": [
    "## Exercise 2: `reflect_on_draft` Function\n",
    "\n",
    "**Objective**:\n",
    "Write a function called `reflect_on_draft` that takes a previously generated essay draft and uses a language model to provide constructive feedback.\n",
    "\n",
    "**Inputs**:\n",
    "\n",
    "* `draft` (str): The essay text to reflect on.\n",
    "* `model` (str, optional): The model identifier to use. Defaults to `\"openai:o4-mini\"`.\n",
    "\n",
    "**Output**:\n",
    "\n",
    "* A string with feedback in paragraph form.\n",
    "\n",
    "**Requirements**:\n",
    "\n",
    "* The feedback should be critical but constructive.\n",
    "* It should address issues such as structure, clarity, strength of argument, and writing style.\n",
    "* The function should send the draft to the model and return its response.\n",
    "\n",
    "You do **not** need to rewrite the essay at this step—just analyze and reflect on it.\n"
   ]
  },
  {
   "cell_type": "code",
   "execution_count": 5,
   "id": "4cc1a1cf",
   "metadata": {
    "deletable": false,
    "height": 525,
    "tags": [
     "graded"
    ]
   },
   "outputs": [],
   "source": [
    "# GRADED FUNCTION: reflect_on_draft\n",
    "\n",
    "def reflect_on_draft(draft: str, model: str = \"openai:o4-mini\") -> str:\n",
    "\n",
    "    ### START CODE HERE ###\n",
    "\n",
    "    # Define your prompt here. A multi-line f-string is typically used for this.\n",
    "    prompt = f\"\"\"You are an expert essay evaluator.\n",
    "Your task is to evaluate the given essay for:\n",
    "- structure\n",
    "- clarity\n",
    "- strength of argument, and \n",
    "- writing style\n",
    "\n",
    "Here is the essay: {draft}\n",
    "\n",
    "Note: Only return your feedback in a string form without any opening or closing commentary.\n",
    "\"\"\" \n",
    "\n",
    "    ### END CODE HERE ###\n",
    "\n",
    "    # Get a response from the LLM by creating a chat with the client.\n",
    "    response = CLIENT.chat.completions.create(\n",
    "        model=model,\n",
    "        messages=[{\"role\": \"user\", \"content\": prompt}],\n",
    "        temperature=1.0,\n",
    "    )\n",
    "\n",
    "    return response.choices[0].message.content"
   ]
  },
  {
   "cell_type": "code",
   "execution_count": 6,
   "id": "001ce37a",
   "metadata": {
    "deletable": false,
    "editable": false,
    "height": 47
   },
   "outputs": [
    {
     "name": "stdout",
     "output_type": "stream",
     "text": [
      "\u001b[92m All tests passed!\n"
     ]
    }
   ],
   "source": [
    "# Test your code!\n",
    "unittests.test_reflect_on_draft(reflect_on_draft)"
   ]
  },
  {
   "cell_type": "markdown",
   "id": "e99bba56",
   "metadata": {},
   "source": [
    "## Exercise 3: `revise_draft` Function\n",
    "\n",
    "**Objective**:\n",
    "Implement a function called `revise_draft` that improves a given essay draft based on feedback from a reflection step.\n",
    "\n",
    "**Inputs**:\n",
    "\n",
    "* `original_draft` (str): The initial version of the essay.\n",
    "* `reflection` (str): Constructive feedback or critique on the draft.\n",
    "* `model` (str, optional): The model identifier to use. Defaults to `\"openai:gpt-4o\"`.\n",
    "\n",
    "**Output**:\n",
    "\n",
    "* A string containing the revised and improved essay.\n",
    "\n",
    "**Requirements**:\n",
    "\n",
    "* The revised draft should address the issues mentioned in the feedback.\n",
    "* It should improve clarity, coherence, argument strength, and overall flow.\n",
    "* The function should use the feedback to guide the revision, and return only the final revised essay.\n",
    "\n",
    "In this final exercise, you'll also need to manage the call to the LLM using the CLIENT, as you've practiced in previous exercises."
   ]
  },
  {
   "cell_type": "code",
   "execution_count": 7,
   "id": "f91595e9",
   "metadata": {
    "deletable": false,
    "height": 610,
    "tags": [
     "graded"
    ]
   },
   "outputs": [],
   "source": [
    "# GRADED FUNCTION: revise_draft\n",
    "\n",
    "def revise_draft(original_draft: str, reflection: str, model: str = \"openai:gpt-4o\") -> str:\n",
    "\n",
    "    ### START CODE HERE ###\n",
    "\n",
    "    # Define your prompt here. A multi-line f-string is typically used for this.\n",
    "    prompt = f\"\"\"You an expert essay editor.\n",
    "Your task is to edit a given essay for the given feedback.\n",
    "You are supposed to revise the essay for below points:\n",
    "- clarity\n",
    "- coherence\n",
    "- argument strength, and \n",
    "- overall flow\n",
    "\n",
    "Note: Only return the revised essay, no need to return any opening or closing commentary.\n",
    "Here is the original draft: {original_draft}\n",
    "\n",
    "###\n",
    "\n",
    "Here is the feedback: {reflection}\n",
    "\"\"\" \n",
    "\n",
    "    # Get a response from the LLM by creating a chat with the client.\n",
    "    response = CLIENT.chat.completions.create(\n",
    "        model=model,\n",
    "        messages=[{\"role\": \"user\", \"content\": prompt}],\n",
    "        temperature=1.0,\n",
    "    )\n",
    "\n",
    "\n",
    "    ### END CODE HERE ###\n",
    "\n",
    "    return response.choices[0].message.content"
   ]
  },
  {
   "cell_type": "code",
   "execution_count": 8,
   "id": "318c3d55",
   "metadata": {
    "deletable": false,
    "editable": false,
    "height": 47
   },
   "outputs": [
    {
     "name": "stdout",
     "output_type": "stream",
     "text": [
      "\u001b[92m All tests passed!\n"
     ]
    }
   ],
   "source": [
    "# Test your code!\n",
    "unittests.test_revise_draft(revise_draft)"
   ]
  },
  {
   "cell_type": "markdown",
   "id": "c8a10d4c",
   "metadata": {},
   "source": [
    "### 🧪 Test the Reflective Writing Workflow\n",
    "\n",
    "Use the functions you implemented to simulate the complete writing workflow:\n",
    "\n",
    "1. **Generate a draft** in response to the essay prompt.\n",
    "2. **Reflect** on the draft to identify improvements.\n",
    "3. **Revise** the draft using the feedback.\n",
    "\n",
    "Observe the outputs of each step. You do **not** need to modify the outputs — just verify that the workflow runs as expected and each component returns a valid string.\n"
   ]
  },
  {
   "cell_type": "code",
   "execution_count": 9,
   "id": "203c734a",
   "metadata": {
    "deletable": false,
    "editable": false,
    "height": 304
   },
   "outputs": [
    {
     "name": "stdout",
     "output_type": "stream",
     "text": [
      "📝 Draft:\n",
      "\n",
      "Title: Navigating the Digital Age: Should Social Media Platforms be Regulated by the Government?\n",
      "\n",
      "Introduction\n",
      "\n",
      "The advent of social media has revolutionized how people communicate, access information, and share ideas worldwide. Platforms like Facebook, Twitter, Instagram, and TikTok have become integral elements of contemporary society, emphasizing user-generated content and facilitating instantaneous connectivity. However, the unfettered use and influence of these platforms have raised significant concerns, including the spread of misinformation, violation of privacy, and the potential for political manipulation. Consequently, a crucial debate has emerged: Should social media platforms be regulated by the government? This essay argues that while government regulation may help mitigate certain risks associated with social media, such interference must be carefully balanced to preserve freedom of expression and innovation.\n",
      "\n",
      "Body\n",
      "\n",
      "1. The Case for Regulation\n",
      "\n",
      "One of the most compelling arguments for government regulation is the need to combat misinformation and fake news. Social media platforms have, at times, been instrumental in spreading false information that can incite panic, influence elections, and polarize societies. The 2016 US presidential election and the COVID-19 pandemic exemplify such scenarios. Without accountability, platforms may prioritize engagement over accuracy, allowing falsehoods to propagate rapidly. Regulatory frameworks could establish standards for content verification and impose penalties for failing to address harmful misinformation.\n",
      "\n",
      "Furthermore, social media platforms often engage in data collection practices that jeopardize user privacy. Users frequently remain unaware of the extent to which their personal information is harvested and shared, and data breaches have exposed millions to fraud and identity theft. Government regulation could enforce stringent data protection laws to safeguard individual privacy and ensure transparency in data collection and usage.\n",
      "\n",
      "2. Challenges of Government Regulation\n",
      "\n",
      "Despite its potential benefits, government regulation poses significant challenges that could undermine the core values of social media. One major concern is the infringement on free speech. Social media serves as a democratizing force, allowing marginalized voices to be heard. Government interventions may inadvertently stifle dissenting opinions and hinder open discourse, especially if regulatory bodies impose draconian restrictions under the guise of moderation.\n",
      "\n",
      "Additionally, rapid technological advancements and the global nature of social media mean that governments may struggle to create effective regulations. Overly rigid policies could stifle innovation and place domestic companies at a competitive disadvantage, particularly in countries with vibrant technology sectors. Effective regulation requires a nuanced understanding of technology and the dynamics of digital communication, an area where many governments may lack expertise.\n",
      "\n",
      "3. A Balanced Approach\n",
      "\n",
      "To address the complex realities of regulating social media, a balanced approach is necessary. Collaborative efforts between governments, technology companies, and civil society can create a comprehensive regulatory framework that respects free expression while minimizing harm. Self-regulation by social media platforms, guided by clear government-imposed standards, could encourage platforms to police their content more effectively without heavy-handed control.\n",
      "\n",
      "Moreover, education and digital literacy programs can empower users to critically assess online information and make informed decisions. Promoting digital literacy helps cultivate an informed public that can discern credible sources from fraudulent ones, reducing the impact of misinformation organically.\n",
      "\n",
      "Conclusion\n",
      "\n",
      "The question of whether social media platforms should be regulated by the government is complex and multifaceted. While regulation may provide a means to address pressing issues like misinformation, privacy violations, and online harm, it also necessitates careful consideration to prevent unintended consequences such as censorship and stifling of innovation. A balanced approach, emphasizing collaboration and user empowerment, holds the greatest promise for navigating the digital age responsibly. As society continues to grapple with the implications of social media, openness to adaptive, thoughtful solutions will be crucial in ensuring these platforms serve the public good while respecting individual freedoms.\n",
      "\n",
      "🧠 Feedback:\n",
      "\n",
      "Structure: The essay follows a classic format with a clear introduction, three coherent body sections (pro-regulation, challenges, balanced approach), and a concise conclusion. Each section is labeled, which aids navigation, though more subtle transitions between paragraphs (beyond numbering) would create a smoother flow. The thesis is stated in the introduction, and the conclusion restates it effectively.\n",
      "\n",
      "Clarity: Overall, the language is precise and jargon-free, making complex ideas accessible. A few long sentences could be broken up for easier reading. The use of concrete examples (2016 election, COVID-19) strengthens clarity, but adding data or citing studies would bolster authority.\n",
      "\n",
      "Strength of Argument: The essay presents a balanced view, weighing benefits (misinformation control, privacy) against risks (censorship, stifled innovation). The call for collaboration and digital literacy is persuasive. To deepen the argument, the writer could reference existing regulations (e.g., GDPR), legal precedents, or real-world outcomes of regulatory interventions.\n",
      "\n",
      "Writing Style: The tone is appropriately academic and objective. Word choice is measured, and there are few grammatical errors. Varied sentence structures and more active-voice constructions could enhance engagement. Occasional rhetorical questions or illustrative anecdotes might also enliven the narrative.\n",
      "\n",
      "Overall Impression: A well-structured, clear, and balanced essay that lays a solid foundation. Strengthening the argument with empirical evidence and refining transitions would elevate it further.\n",
      "\n",
      "✍️ Revised:\n",
      "\n",
      "Title: Navigating the Digital Age: Should Social Media Platforms be Regulated by the Government?\n",
      "\n",
      "Introduction\n",
      "\n",
      "The advent of social media has revolutionized global communication, access to information, and idea-sharing. Platforms like Facebook, Twitter, Instagram, and TikTok have become essential components of modern society, emphasizing user-generated content and offering instant connectivity. However, the unchecked use and influence of these platforms have raised significant concerns, including the spread of misinformation, violation of privacy, and the potential for political manipulation. Consequently, a crucial debate has emerged: Should social media platforms be regulated by the government? This essay argues that while government regulation may help mitigate certain risks associated with social media, such interference must be delicately balanced to preserve freedom of expression and innovation.\n",
      "\n",
      "Body\n",
      "\n",
      "The Case for Regulation\n",
      "\n",
      "One of the most compelling arguments for governmental oversight is the need to combat misinformation and fake news. Social media platforms have been instrumental in spreading false information, which can incite panic, influence elections, and polarize societies. For instance, the 2016 US presidential election and the COVID-19 pandemic have highlighted how quickly misinformation can spread. Platforms may prioritize engagement over accuracy if left unregulated, allowing falsehoods to propagate unchecked. Regulatory frameworks could establish standards for content verification and impose penalties for failing to address harmful misinformation, potentially drawing from existing regulations like the General Data Protection Regulation (GDPR) for guidance.\n",
      "\n",
      "Furthermore, social media platforms commonly engage in data collection practices that threaten user privacy. Users often remain unaware of how extensively their personal information is harvested and shared, and data breaches have exposed millions to fraud and identity theft. Government regulation could enforce stringent data protection laws to safeguard individual privacy and ensure transparency in data acquisition and use.\n",
      "\n",
      "Challenges of Government Regulation\n",
      "\n",
      "Despite its potential benefits, government regulation poses significant challenges that could undermine the core values of social media. A primary concern is the infringement on free speech. Social media serves as a democratizing force, amplifying marginalized voices. Government interventions might inadvertently stifle dissenting opinions and hinder open discourse, especially if regulatory bodies impose oppressive restrictions under the guise of moderation. Historical examples, such as China's Great Firewall, illustrate how government control can lead to censorship and suppression of free expression.\n",
      "\n",
      "Moreover, the rapid evolution of technology and the global nature of social media pose obstacles for governments aiming to create effective regulations. Overly rigid policies might stifle innovation and place domestic companies at a competitive disadvantage, especially in countries with vibrant technology sectors. Crafting effective regulation requires nuanced understanding of technology and digital communication dynamics—areas where many governments may lack expertise.\n",
      "\n",
      "A Balanced Approach\n",
      "\n",
      "To address the complex realities of regulating social media, a balanced approach is necessary. Collaborative efforts between governments, technology companies, and civil society can create a comprehensive regulatory framework that respects free expression while minimizing harm. Encouraging self-regulation by social media platforms, guided by clear government-imposed standards, could lead to more effective content policing without heavy-handed control.\n",
      "\n",
      "Additionally, education and digital literacy programs can empower users to critically assess online information and make informed decisions. Promoting digital literacy helps cultivate an informed public capable of discerning credible sources from fraudulent ones, thereby reducing the impact of misinformation organically. Drawing from successful initiatives like Finland's national digital literacy program could provide a model for other countries.\n",
      "\n",
      "Conclusion\n",
      "\n",
      "The question of whether social media platforms should be regulated by the government is complex and multifaceted. While regulation may offer solutions to pressing issues like misinformation, privacy violations, and online harm, it requires careful consideration to prevent unintended consequences such as censorship and stifling of innovation. A balanced approach, emphasizing collaboration and user empowerment, holds the greatest promise for responsibly navigating the digital age. As society continues to grapple with the implications of social media, remaining open to adaptive, thoughtful solutions will be crucial in ensuring these platforms serve the public good while respecting individual freedoms.\n"
     ]
    }
   ],
   "source": [
    "essay_prompt = \"Should social media platforms be regulated by the government?\"\n",
    "\n",
    "# Agent 1 – Draft\n",
    "draft = generate_draft(essay_prompt)\n",
    "print(\"📝 Draft:\\n\")\n",
    "print(draft)\n",
    "\n",
    "# Agent 2 – Reflection\n",
    "feedback = reflect_on_draft(draft)\n",
    "print(\"\\n🧠 Feedback:\\n\")\n",
    "print(feedback)\n",
    "\n",
    "# Agent 3 – Revision\n",
    "revised = revise_draft(draft, feedback)\n",
    "print(\"\\n✍️ Revised:\\n\")\n",
    "print(revised)"
   ]
  },
  {
   "cell_type": "markdown",
   "id": "7e3eb897",
   "metadata": {},
   "source": [
    "To better visualize the output of each step in the reflective writing workflow, we use a utility function called `show_output`. This function displays the results of each stage (drafting, reflection, and revision) in styled boxes with custom background and text colors, making it easier to compare and understand the progression of the essay.\n"
   ]
  },
  {
   "cell_type": "code",
   "execution_count": 10,
   "id": "50667ba3",
   "metadata": {
    "deletable": false,
    "editable": false,
    "height": 151
   },
   "outputs": [
    {
     "data": {
      "text/html": [
       "\n",
       "    <div style=\"\n",
       "        border: 1px solid #ccc;\n",
       "        border-radius: 10px;\n",
       "        padding: 15px;\n",
       "        margin-bottom: 15px;\n",
       "        background-color: #fff8dc;\n",
       "        color: #333333;\n",
       "    \">\n",
       "        <h3 style=\"margin-top: 0;\">Step 1 – Draft</h3>\n",
       "        <pre style=\"\n",
       "            white-space: pre-wrap;\n",
       "            font-family: monospace;\n",
       "            font-size: 14px;\n",
       "        \">Title: Navigating the Digital Age: Should Social Media Platforms be Regulated by the Government?\n",
       "\n",
       "Introduction\n",
       "\n",
       "The advent of social media has revolutionized how people communicate, access information, and share ideas worldwide. Platforms like Facebook, Twitter, Instagram, and TikTok have become integral elements of contemporary society, emphasizing user-generated content and facilitating instantaneous connectivity. However, the unfettered use and influence of these platforms have raised significant concerns, including the spread of misinformation, violation of privacy, and the potential for political manipulation. Consequently, a crucial debate has emerged: Should social media platforms be regulated by the government? This essay argues that while government regulation may help mitigate certain risks associated with social media, such interference must be carefully balanced to preserve freedom of expression and innovation.\n",
       "\n",
       "Body\n",
       "\n",
       "1. The Case for Regulation\n",
       "\n",
       "One of the most compelling arguments for government regulation is the need to combat misinformation and fake news. Social media platforms have, at times, been instrumental in spreading false information that can incite panic, influence elections, and polarize societies. The 2016 US presidential election and the COVID-19 pandemic exemplify such scenarios. Without accountability, platforms may prioritize engagement over accuracy, allowing falsehoods to propagate rapidly. Regulatory frameworks could establish standards for content verification and impose penalties for failing to address harmful misinformation.\n",
       "\n",
       "Furthermore, social media platforms often engage in data collection practices that jeopardize user privacy. Users frequently remain unaware of the extent to which their personal information is harvested and shared, and data breaches have exposed millions to fraud and identity theft. Government regulation could enforce stringent data protection laws to safeguard individual privacy and ensure transparency in data collection and usage.\n",
       "\n",
       "2. Challenges of Government Regulation\n",
       "\n",
       "Despite its potential benefits, government regulation poses significant challenges that could undermine the core values of social media. One major concern is the infringement on free speech. Social media serves as a democratizing force, allowing marginalized voices to be heard. Government interventions may inadvertently stifle dissenting opinions and hinder open discourse, especially if regulatory bodies impose draconian restrictions under the guise of moderation.\n",
       "\n",
       "Additionally, rapid technological advancements and the global nature of social media mean that governments may struggle to create effective regulations. Overly rigid policies could stifle innovation and place domestic companies at a competitive disadvantage, particularly in countries with vibrant technology sectors. Effective regulation requires a nuanced understanding of technology and the dynamics of digital communication, an area where many governments may lack expertise.\n",
       "\n",
       "3. A Balanced Approach\n",
       "\n",
       "To address the complex realities of regulating social media, a balanced approach is necessary. Collaborative efforts between governments, technology companies, and civil society can create a comprehensive regulatory framework that respects free expression while minimizing harm. Self-regulation by social media platforms, guided by clear government-imposed standards, could encourage platforms to police their content more effectively without heavy-handed control.\n",
       "\n",
       "Moreover, education and digital literacy programs can empower users to critically assess online information and make informed decisions. Promoting digital literacy helps cultivate an informed public that can discern credible sources from fraudulent ones, reducing the impact of misinformation organically.\n",
       "\n",
       "Conclusion\n",
       "\n",
       "The question of whether social media platforms should be regulated by the government is complex and multifaceted. While regulation may provide a means to address pressing issues like misinformation, privacy violations, and online harm, it also necessitates careful consideration to prevent unintended consequences such as censorship and stifling of innovation. A balanced approach, emphasizing collaboration and user empowerment, holds the greatest promise for navigating the digital age responsibly. As society continues to grapple with the implications of social media, openness to adaptive, thoughtful solutions will be crucial in ensuring these platforms serve the public good while respecting individual freedoms.</pre>\n",
       "    </div>\n",
       "    "
      ],
      "text/plain": [
       "<IPython.core.display.HTML object>"
      ]
     },
     "metadata": {},
     "output_type": "display_data"
    },
    {
     "data": {
      "text/html": [
       "\n",
       "    <div style=\"\n",
       "        border: 1px solid #ccc;\n",
       "        border-radius: 10px;\n",
       "        padding: 15px;\n",
       "        margin-bottom: 15px;\n",
       "        background-color: #e0f7fa;\n",
       "        color: #222222;\n",
       "    \">\n",
       "        <h3 style=\"margin-top: 0;\">Step 2 – Reflection</h3>\n",
       "        <pre style=\"\n",
       "            white-space: pre-wrap;\n",
       "            font-family: monospace;\n",
       "            font-size: 14px;\n",
       "        \">Structure: The essay follows a classic format with a clear introduction, three coherent body sections (pro-regulation, challenges, balanced approach), and a concise conclusion. Each section is labeled, which aids navigation, though more subtle transitions between paragraphs (beyond numbering) would create a smoother flow. The thesis is stated in the introduction, and the conclusion restates it effectively.\n",
       "\n",
       "Clarity: Overall, the language is precise and jargon-free, making complex ideas accessible. A few long sentences could be broken up for easier reading. The use of concrete examples (2016 election, COVID-19) strengthens clarity, but adding data or citing studies would bolster authority.\n",
       "\n",
       "Strength of Argument: The essay presents a balanced view, weighing benefits (misinformation control, privacy) against risks (censorship, stifled innovation). The call for collaboration and digital literacy is persuasive. To deepen the argument, the writer could reference existing regulations (e.g., GDPR), legal precedents, or real-world outcomes of regulatory interventions.\n",
       "\n",
       "Writing Style: The tone is appropriately academic and objective. Word choice is measured, and there are few grammatical errors. Varied sentence structures and more active-voice constructions could enhance engagement. Occasional rhetorical questions or illustrative anecdotes might also enliven the narrative.\n",
       "\n",
       "Overall Impression: A well-structured, clear, and balanced essay that lays a solid foundation. Strengthening the argument with empirical evidence and refining transitions would elevate it further.</pre>\n",
       "    </div>\n",
       "    "
      ],
      "text/plain": [
       "<IPython.core.display.HTML object>"
      ]
     },
     "metadata": {},
     "output_type": "display_data"
    },
    {
     "data": {
      "text/html": [
       "\n",
       "    <div style=\"\n",
       "        border: 1px solid #ccc;\n",
       "        border-radius: 10px;\n",
       "        padding: 15px;\n",
       "        margin-bottom: 15px;\n",
       "        background-color: #f3e5f5;\n",
       "        color: #222222;\n",
       "    \">\n",
       "        <h3 style=\"margin-top: 0;\">Step 3 – Revision</h3>\n",
       "        <pre style=\"\n",
       "            white-space: pre-wrap;\n",
       "            font-family: monospace;\n",
       "            font-size: 14px;\n",
       "        \">Title: Navigating the Digital Age: Should Social Media Platforms be Regulated by the Government?\n",
       "\n",
       "Introduction\n",
       "\n",
       "The advent of social media has revolutionized global communication, access to information, and idea-sharing. Platforms like Facebook, Twitter, Instagram, and TikTok have become essential components of modern society, emphasizing user-generated content and offering instant connectivity. However, the unchecked use and influence of these platforms have raised significant concerns, including the spread of misinformation, violation of privacy, and the potential for political manipulation. Consequently, a crucial debate has emerged: Should social media platforms be regulated by the government? This essay argues that while government regulation may help mitigate certain risks associated with social media, such interference must be delicately balanced to preserve freedom of expression and innovation.\n",
       "\n",
       "Body\n",
       "\n",
       "The Case for Regulation\n",
       "\n",
       "One of the most compelling arguments for governmental oversight is the need to combat misinformation and fake news. Social media platforms have been instrumental in spreading false information, which can incite panic, influence elections, and polarize societies. For instance, the 2016 US presidential election and the COVID-19 pandemic have highlighted how quickly misinformation can spread. Platforms may prioritize engagement over accuracy if left unregulated, allowing falsehoods to propagate unchecked. Regulatory frameworks could establish standards for content verification and impose penalties for failing to address harmful misinformation, potentially drawing from existing regulations like the General Data Protection Regulation (GDPR) for guidance.\n",
       "\n",
       "Furthermore, social media platforms commonly engage in data collection practices that threaten user privacy. Users often remain unaware of how extensively their personal information is harvested and shared, and data breaches have exposed millions to fraud and identity theft. Government regulation could enforce stringent data protection laws to safeguard individual privacy and ensure transparency in data acquisition and use.\n",
       "\n",
       "Challenges of Government Regulation\n",
       "\n",
       "Despite its potential benefits, government regulation poses significant challenges that could undermine the core values of social media. A primary concern is the infringement on free speech. Social media serves as a democratizing force, amplifying marginalized voices. Government interventions might inadvertently stifle dissenting opinions and hinder open discourse, especially if regulatory bodies impose oppressive restrictions under the guise of moderation. Historical examples, such as China's Great Firewall, illustrate how government control can lead to censorship and suppression of free expression.\n",
       "\n",
       "Moreover, the rapid evolution of technology and the global nature of social media pose obstacles for governments aiming to create effective regulations. Overly rigid policies might stifle innovation and place domestic companies at a competitive disadvantage, especially in countries with vibrant technology sectors. Crafting effective regulation requires nuanced understanding of technology and digital communication dynamics—areas where many governments may lack expertise.\n",
       "\n",
       "A Balanced Approach\n",
       "\n",
       "To address the complex realities of regulating social media, a balanced approach is necessary. Collaborative efforts between governments, technology companies, and civil society can create a comprehensive regulatory framework that respects free expression while minimizing harm. Encouraging self-regulation by social media platforms, guided by clear government-imposed standards, could lead to more effective content policing without heavy-handed control.\n",
       "\n",
       "Additionally, education and digital literacy programs can empower users to critically assess online information and make informed decisions. Promoting digital literacy helps cultivate an informed public capable of discerning credible sources from fraudulent ones, thereby reducing the impact of misinformation organically. Drawing from successful initiatives like Finland's national digital literacy program could provide a model for other countries.\n",
       "\n",
       "Conclusion\n",
       "\n",
       "The question of whether social media platforms should be regulated by the government is complex and multifaceted. While regulation may offer solutions to pressing issues like misinformation, privacy violations, and online harm, it requires careful consideration to prevent unintended consequences such as censorship and stifling of innovation. A balanced approach, emphasizing collaboration and user empowerment, holds the greatest promise for responsibly navigating the digital age. As society continues to grapple with the implications of social media, remaining open to adaptive, thoughtful solutions will be crucial in ensuring these platforms serve the public good while respecting individual freedoms.</pre>\n",
       "    </div>\n",
       "    "
      ],
      "text/plain": [
       "<IPython.core.display.HTML object>"
      ]
     },
     "metadata": {},
     "output_type": "display_data"
    }
   ],
   "source": [
    "from utils import show_output\n",
    "\n",
    "essay_prompt = \"Should social media platforms be regulated by the government?\"\n",
    "\n",
    "show_output(\"Step 1 – Draft\", draft, background=\"#fff8dc\", text_color=\"#333333\")\n",
    "show_output(\"Step 2 – Reflection\", feedback, background=\"#e0f7fa\", text_color=\"#222222\")\n",
    "show_output(\"Step 3 – Revision\", revised, background=\"#f3e5f5\", text_color=\"#222222\")"
   ]
  },
  {
   "cell_type": "markdown",
   "id": "367973f7",
   "metadata": {},
   "source": [
    "## Check grading feedback\n",
    "\n",
    "If you have collapsed the right panel to have more screen space for your code, as shown below:\n",
    "\n",
    "<img src=\"./images/collapsed.png\" alt=\"Collapsed Image\" width=\"800\" height=\"400\"/>\n",
    "\n",
    "You can click on the left-facing arrow button (highlighted in red) to view feedback for your submission after submitting it for grading. Once expanded, it should display like this:\n",
    "\n",
    "<img src=\"./images/expanded.png\" alt=\"Expanded Image\" width=\"800\" height=\"400\"/>"
   ]
  }
 ],
 "metadata": {
  "grader_version": "1",
  "kernelspec": {
   "display_name": "Python 3 (ipykernel)",
   "language": "python",
   "name": "python3"
  },
  "language_info": {
   "codemirror_mode": {
    "name": "ipython",
    "version": 3
   },
   "file_extension": ".py",
   "mimetype": "text/x-python",
   "name": "python",
   "nbconvert_exporter": "python",
   "pygments_lexer": "ipython3",
   "version": "3.11.9"
  }
 },
 "nbformat": 4,
 "nbformat_minor": 5
}
